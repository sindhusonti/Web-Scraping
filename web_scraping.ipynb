{
  "nbformat": 4,
  "nbformat_minor": 0,
  "metadata": {
    "colab": {
      "provenance": [],
      "authorship_tag": "ABX9TyMxw3FcpaqN5w9bU7kgjjcV",
      "include_colab_link": true
    },
    "kernelspec": {
      "name": "python3",
      "display_name": "Python 3"
    },
    "language_info": {
      "name": "python"
    }
  },
  "cells": [
    {
      "cell_type": "markdown",
      "metadata": {
        "id": "view-in-github",
        "colab_type": "text"
      },
      "source": [
        "<a href=\"https://colab.research.google.com/github/sindhusonti/Web-Scraping/blob/main/web_scraping.ipynb\" target=\"_parent\"><img src=\"https://colab.research.google.com/assets/colab-badge.svg\" alt=\"Open In Colab\"/></a>"
      ]
    },
    {
      "cell_type": "code",
      "execution_count": 5,
      "metadata": {
        "colab": {
          "base_uri": "https://localhost:8080/"
        },
        "id": "ROK17dZVmITM",
        "outputId": "cde69d1a-e7c4-4471-c7b9-bcdca3c5e038"
      },
      "outputs": [
        {
          "output_type": "stream",
          "name": "stdout",
          "text": [
            "2\n"
          ]
        }
      ],
      "source": [
        "import pandas as pd\n",
        "\n",
        "# Corrected URL\n",
        "url = 'https://en.wikipedia.org/wiki/List_of_S%26P_500_companies'\n",
        "\n",
        "# Fetching tables from the webpage\n",
        "tables = pd.read_html('https://en.wikipedia.org/wiki/List_of_S%26P_500_companies'\n",
        ")\n",
        "\n",
        "# Checking the number of tables\n",
        "print(len(tables))\n"
      ]
    },
    {
      "cell_type": "code",
      "source": [
        "print(f\"Number of tables found: {len(tables)}\")"
      ],
      "metadata": {
        "colab": {
          "base_uri": "https://localhost:8080/"
        },
        "id": "9k53zh5dpmwA",
        "outputId": "23dc1fbf-5055-4816-effc-0405c447c1c6"
      },
      "execution_count": 6,
      "outputs": [
        {
          "output_type": "stream",
          "name": "stdout",
          "text": [
            "Number of tables found: 2\n"
          ]
        }
      ]
    },
    {
      "cell_type": "code",
      "source": [
        "sp500_table = tables[0]"
      ],
      "metadata": {
        "id": "ntsGqDvYppAV"
      },
      "execution_count": 7,
      "outputs": []
    },
    {
      "cell_type": "code",
      "source": [
        "print(sp500_table.head())"
      ],
      "metadata": {
        "colab": {
          "base_uri": "https://localhost:8080/"
        },
        "id": "3tRo8MPvpxo7",
        "outputId": "dd808fb5-e846-4df3-8c7b-9a6d8d04ba9d"
      },
      "execution_count": 8,
      "outputs": [
        {
          "output_type": "stream",
          "name": "stdout",
          "text": [
            "  Symbol             Security             GICS Sector  \\\n",
            "0    MMM                   3M             Industrials   \n",
            "1    AOS          A. O. Smith             Industrials   \n",
            "2    ABT  Abbott Laboratories             Health Care   \n",
            "3   ABBV               AbbVie             Health Care   \n",
            "4    ACN            Accenture  Information Technology   \n",
            "\n",
            "                GICS Sub-Industry    Headquarters Location  Date added  \\\n",
            "0        Industrial Conglomerates    Saint Paul, Minnesota  1957-03-04   \n",
            "1               Building Products     Milwaukee, Wisconsin  2017-07-26   \n",
            "2           Health Care Equipment  North Chicago, Illinois  1957-03-04   \n",
            "3                   Biotechnology  North Chicago, Illinois  2012-12-31   \n",
            "4  IT Consulting & Other Services          Dublin, Ireland  2011-07-06   \n",
            "\n",
            "       CIK      Founded  \n",
            "0    66740         1902  \n",
            "1    91142         1916  \n",
            "2     1800         1888  \n",
            "3  1551152  2013 (1888)  \n",
            "4  1467373         1989  \n"
          ]
        }
      ]
    },
    {
      "cell_type": "code",
      "source": [
        "sp500_table.to_csv('sp500_companies.csv', index=False)\n",
        "print(\"S&P 500 companies data saved to 'sp500_companies.csv'\")"
      ],
      "metadata": {
        "colab": {
          "base_uri": "https://localhost:8080/"
        },
        "id": "VW6zvKYTp2yc",
        "outputId": "34e460c2-2468-4222-c356-69590ffd0e1a"
      },
      "execution_count": 9,
      "outputs": [
        {
          "output_type": "stream",
          "name": "stdout",
          "text": [
            "S&P 500 companies data saved to 'sp500_companies.csv'\n"
          ]
        }
      ]
    },
    {
      "cell_type": "code",
      "source": [
        "df = pd.read_csv('sp500_companies.csv')\n",
        "print(df.head())  # Display the first few rows"
      ],
      "metadata": {
        "colab": {
          "base_uri": "https://localhost:8080/"
        },
        "id": "VYSbZg2nqtBh",
        "outputId": "9fa2011e-a3c3-4e60-c7c7-7ffb6ecf7710"
      },
      "execution_count": 10,
      "outputs": [
        {
          "output_type": "stream",
          "name": "stdout",
          "text": [
            "  Symbol             Security             GICS Sector  \\\n",
            "0    MMM                   3M             Industrials   \n",
            "1    AOS          A. O. Smith             Industrials   \n",
            "2    ABT  Abbott Laboratories             Health Care   \n",
            "3   ABBV               AbbVie             Health Care   \n",
            "4    ACN            Accenture  Information Technology   \n",
            "\n",
            "                GICS Sub-Industry    Headquarters Location  Date added  \\\n",
            "0        Industrial Conglomerates    Saint Paul, Minnesota  1957-03-04   \n",
            "1               Building Products     Milwaukee, Wisconsin  2017-07-26   \n",
            "2           Health Care Equipment  North Chicago, Illinois  1957-03-04   \n",
            "3                   Biotechnology  North Chicago, Illinois  2012-12-31   \n",
            "4  IT Consulting & Other Services          Dublin, Ireland  2011-07-06   \n",
            "\n",
            "       CIK      Founded  \n",
            "0    66740         1902  \n",
            "1    91142         1916  \n",
            "2     1800         1888  \n",
            "3  1551152  2013 (1888)  \n",
            "4  1467373         1989  \n"
          ]
        }
      ]
    },
    {
      "cell_type": "code",
      "source": [
        "tech_companies = df[df['GICS Sector'] == 'Information Technology']\n",
        "print(tech_companies)"
      ],
      "metadata": {
        "colab": {
          "base_uri": "https://localhost:8080/"
        },
        "id": "l7wzZkQoqy2V",
        "outputId": "2a7236cc-4c37-4248-bfb9-4b00005ba4b2"
      },
      "execution_count": 11,
      "outputs": [
        {
          "output_type": "stream",
          "name": "stdout",
          "text": [
            "    Symbol                Security             GICS Sector  \\\n",
            "4      ACN               Accenture  Information Technology   \n",
            "5     ADBE              Adobe Inc.  Information Technology   \n",
            "6      AMD  Advanced Micro Devices  Information Technology   \n",
            "12    AKAM     Akamai Technologies  Information Technology   \n",
            "33     APH                Amphenol  Information Technology   \n",
            "..     ...                     ...                     ...   \n",
            "454    TYL      Tyler Technologies  Information Technology   \n",
            "469   VRSN                Verisign  Information Technology   \n",
            "491    WDC         Western Digital  Information Technology   \n",
            "495   WDAY           Workday, Inc.  Information Technology   \n",
            "500   ZBRA      Zebra Technologies  Information Technology   \n",
            "\n",
            "                              GICS Sub-Industry     Headquarters Location  \\\n",
            "4                IT Consulting & Other Services           Dublin, Ireland   \n",
            "5                          Application Software      San Jose, California   \n",
            "6                                Semiconductors   Santa Clara, California   \n",
            "12           Internet Services & Infrastructure  Cambridge, Massachusetts   \n",
            "33                        Electronic Components  Wallingford, Connecticut   \n",
            "..                                          ...                       ...   \n",
            "454                        Application Software              Plano, Texas   \n",
            "469          Internet Services & Infrastructure          Dulles, Virginia   \n",
            "491  Technology Hardware, Storage & Peripherals      San Jose, California   \n",
            "495                        Application Software    Pleasanton, California   \n",
            "500          Electronic Equipment & Instruments    Lincolnshire, Illinois   \n",
            "\n",
            "     Date added      CIK Founded  \n",
            "4    2011-07-06  1467373    1989  \n",
            "5    1997-05-05   796343    1982  \n",
            "6    2017-03-20     2488    1969  \n",
            "12   2007-07-12  1086222    1998  \n",
            "33   2008-09-30   820313    1932  \n",
            "..          ...      ...     ...  \n",
            "454  2020-06-22   860731    1966  \n",
            "469  2006-02-01  1014473    1995  \n",
            "491  2009-07-01   106040    1970  \n",
            "495  2024-12-23  1327811    2005  \n",
            "500  2019-12-23   877212    1969  \n",
            "\n",
            "[69 rows x 8 columns]\n"
          ]
        }
      ]
    },
    {
      "cell_type": "code",
      "source": [
        "sector_counts = df['GICS Sector'].value_counts()\n",
        "print(sector_counts)\n"
      ],
      "metadata": {
        "colab": {
          "base_uri": "https://localhost:8080/"
        },
        "id": "zrtwZXHvq4_J",
        "outputId": "25a4cf96-abbb-41de-c7f8-fca339fdc90a"
      },
      "execution_count": 12,
      "outputs": [
        {
          "output_type": "stream",
          "name": "stdout",
          "text": [
            "GICS Sector\n",
            "Industrials               78\n",
            "Financials                73\n",
            "Information Technology    69\n",
            "Health Care               61\n",
            "Consumer Discretionary    50\n",
            "Consumer Staples          38\n",
            "Utilities                 31\n",
            "Real Estate               31\n",
            "Materials                 28\n",
            "Communication Services    22\n",
            "Energy                    22\n",
            "Name: count, dtype: int64\n"
          ]
        }
      ]
    },
    {
      "cell_type": "code",
      "source": [
        "symbol = 'AAPL'  # Example: Apple Inc.\n",
        "company_info = df[df['Symbol'] == symbol]\n",
        "print(company_info)"
      ],
      "metadata": {
        "colab": {
          "base_uri": "https://localhost:8080/"
        },
        "id": "M-1zucuuq-xw",
        "outputId": "6a29a37d-93fc-4609-b4d3-22b73c702787"
      },
      "execution_count": 13,
      "outputs": [
        {
          "output_type": "stream",
          "name": "stdout",
          "text": [
            "   Symbol    Security             GICS Sector  \\\n",
            "39   AAPL  Apple Inc.  Information Technology   \n",
            "\n",
            "                             GICS Sub-Industry  Headquarters Location  \\\n",
            "39  Technology Hardware, Storage & Peripherals  Cupertino, California   \n",
            "\n",
            "    Date added     CIK Founded  \n",
            "39  1982-11-30  320193    1977  \n"
          ]
        }
      ]
    },
    {
      "cell_type": "code",
      "source": [
        "sorted_df = df.sort_values('Security')\n",
        "print(sorted_df.head())\n"
      ],
      "metadata": {
        "colab": {
          "base_uri": "https://localhost:8080/"
        },
        "id": "3IOF0CQ6rH1R",
        "outputId": "cacc8cef-f20c-4d3b-bbd1-c782ad3c1b8e"
      },
      "execution_count": 14,
      "outputs": [
        {
          "output_type": "stream",
          "name": "stdout",
          "text": [
            "   Symbol         Security             GICS Sector  \\\n",
            "0     MMM               3M             Industrials   \n",
            "1     AOS      A. O. Smith             Industrials   \n",
            "7     AES  AES Corporation               Utilities   \n",
            "37    APA  APA Corporation                  Energy   \n",
            "47      T             AT&T  Communication Services   \n",
            "\n",
            "                               GICS Sub-Industry  Headquarters Location  \\\n",
            "0                       Industrial Conglomerates  Saint Paul, Minnesota   \n",
            "1                              Building Products   Milwaukee, Wisconsin   \n",
            "7   Independent Power Producers & Energy Traders    Arlington, Virginia   \n",
            "37            Oil & Gas Exploration & Production         Houston, Texas   \n",
            "47         Integrated Telecommunication Services          Dallas, Texas   \n",
            "\n",
            "    Date added      CIK      Founded  \n",
            "0   1957-03-04    66740         1902  \n",
            "1   2017-07-26    91142         1916  \n",
            "7   1998-10-02   874761         1981  \n",
            "37  1997-07-28  1841666         1954  \n",
            "47  1983-11-30   732717  1983 (1885)  \n"
          ]
        }
      ]
    },
    {
      "cell_type": "code",
      "source": [
        "tech_companies.to_csv('tech_companies.csv', index=False)\n",
        "print(\"Filtered data saved to 'tech_companies.csv'\")\n"
      ],
      "metadata": {
        "colab": {
          "base_uri": "https://localhost:8080/"
        },
        "id": "WzhOYYBErQdr",
        "outputId": "92f987f3-aba6-44c1-8602-01584fe69dce"
      },
      "execution_count": 15,
      "outputs": [
        {
          "output_type": "stream",
          "name": "stdout",
          "text": [
            "Filtered data saved to 'tech_companies.csv'\n"
          ]
        }
      ]
    },
    {
      "cell_type": "code",
      "source": [
        "print(df.describe())  # Numerical summary\n",
        "print(df.info())      # Data types and non-null values\n"
      ],
      "metadata": {
        "colab": {
          "base_uri": "https://localhost:8080/"
        },
        "id": "E1jWlzwarWPa",
        "outputId": "5192184e-0520-47f7-ece0-3e40d7f0421e"
      },
      "execution_count": 16,
      "outputs": [
        {
          "output_type": "stream",
          "name": "stdout",
          "text": [
            "                CIK\n",
            "count  5.030000e+02\n",
            "mean   8.319650e+05\n",
            "std    5.680936e+05\n",
            "min    1.800000e+03\n",
            "25%    1.013570e+05\n",
            "50%    9.082550e+05\n",
            "75%    1.220075e+06\n",
            "max    2.012383e+06\n",
            "<class 'pandas.core.frame.DataFrame'>\n",
            "RangeIndex: 503 entries, 0 to 502\n",
            "Data columns (total 8 columns):\n",
            " #   Column                 Non-Null Count  Dtype \n",
            "---  ------                 --------------  ----- \n",
            " 0   Symbol                 503 non-null    object\n",
            " 1   Security               503 non-null    object\n",
            " 2   GICS Sector            503 non-null    object\n",
            " 3   GICS Sub-Industry      503 non-null    object\n",
            " 4   Headquarters Location  503 non-null    object\n",
            " 5   Date added             503 non-null    object\n",
            " 6   CIK                    503 non-null    int64 \n",
            " 7   Founded                503 non-null    object\n",
            "dtypes: int64(1), object(7)\n",
            "memory usage: 31.6+ KB\n",
            "None\n"
          ]
        }
      ]
    },
    {
      "cell_type": "code",
      "source": [
        "import matplotlib.pyplot as plt\n",
        "\n",
        "# Bar chart of company counts by sector\n",
        "sector_counts.plot(kind='bar', figsize=(10, 6), title=\"Number of Companies by Sector\")\n",
        "plt.ylabel(\"Number of Companies\")\n",
        "plt.show()\n"
      ],
      "metadata": {
        "colab": {
          "base_uri": "https://localhost:8080/",
          "height": 722
        },
        "id": "nfhaVTKNrbHU",
        "outputId": "aa354bbc-fc22-4eb4-a36d-efb084f52f5a"
      },
      "execution_count": 17,
      "outputs": [
        {
          "output_type": "display_data",
          "data": {
            "text/plain": [
              "<Figure size 1000x600 with 1 Axes>"
            ],
            "image/png": "[encoded data removed]"
          },
          "metadata": {}
        }
      ]
    },
    {
      "cell_type": "code",
      "source": [
        "# Step 1: Import necessary libraries\n",
        "import requests\n",
        "import pandas as pd\n",
        "from bs4 import BeautifulSoup\n",
        "\n",
        "# Step 2: Define the URL of the page to scrape\n",
        "url = 'https://en.wikipedia.org/wiki/List_of_S%26P_500_companies'\n",
        "\n",
        "# Step 3: Send an HTTP request to the URL\n",
        "response = requests.get(url)\n",
        "if response.status_code == 200:\n",
        "    print(\"Page successfully fetched!\")\n",
        "else:\n",
        "    print(f\"Failed to fetch the page: {response.status_code}\")\n",
        "\n",
        "# Step 4: Parse the HTML content using BeautifulSoup\n",
        "soup = BeautifulSoup(response.text, 'html.parser')\n",
        "\n",
        "# Step 5: Extract the S&P 500 table\n",
        "table = soup.find('table', {'id': 'constituents'})  # The main table of S&P 500 companies\n",
        "\n",
        "# Step 6: Convert the table into a pandas DataFrame\n",
        "df = pd.read_html(str(table))[0]\n",
        "\n",
        "# Step 7: Display the first few rows of the DataFrame\n",
        "print(\"First 5 rows of the S&P 500 companies table:\")\n",
        "print(df.head())\n",
        "\n",
        "# Step 8: Save the data to a CSV file\n",
        "df.to_csv('sp500_companies.csv', index=False)\n",
        "print(\"Data saved as 'sp500_companies.csv'.\")\n",
        "\n",
        "# Step 9: Perform basic analysis (optional)\n",
        "# Count companies by sector\n",
        "sector_counts = df['GICS Sector'].value_counts()\n",
        "\n",
        "# Display results\n",
        "print(\"\\nNumber of companies in each sector:\")\n",
        "print(sector_counts)\n",
        "\n",
        "# Step 10: Plot the data (optional visualization)\n",
        "import matplotlib.pyplot as plt\n",
        "\n",
        "sector_counts.plot(kind='bar', figsize=(12, 6), title=\"Number of Companies by Sector\")\n",
        "plt.ylabel(\"Number of Companies\")\n",
        "plt.xlabel(\"Sector\")\n",
        "plt.show()\n"
      ],
      "metadata": {
        "colab": {
          "base_uri": "https://localhost:8080/",
          "height": 1000
        },
        "id": "-OVZNIfvtWcI",
        "outputId": "fec03f3a-2400-43f8-d09d-9a1476e3e617"
      },
      "execution_count": 18,
      "outputs": [
        {
          "output_type": "stream",
          "name": "stdout",
          "text": [
            "Page successfully fetched!\n"
          ]
        },
        {
          "output_type": "stream",
          "name": "stderr",
          "text": [
            "<ipython-input-18-9d81195d5b5f>:23: FutureWarning: Passing literal html to 'read_html' is deprecated and will be removed in a future version. To read from a literal string, wrap it in a 'StringIO' object.\n",
            "  df = pd.read_html(str(table))[0]\n"
          ]
        },
        {
          "output_type": "stream",
          "name": "stdout",
          "text": [
            "First 5 rows of the S&P 500 companies table:\n",
            "  Symbol             Security             GICS Sector  \\\n",
            "0    MMM                   3M             Industrials   \n",
            "1    AOS          A. O. Smith             Industrials   \n",
            "2    ABT  Abbott Laboratories             Health Care   \n",
            "3   ABBV               AbbVie             Health Care   \n",
            "4    ACN            Accenture  Information Technology   \n",
            "\n",
            "                GICS Sub-Industry    Headquarters Location  Date added  \\\n",
            "0        Industrial Conglomerates    Saint Paul, Minnesota  1957-03-04   \n",
            "1               Building Products     Milwaukee, Wisconsin  2017-07-26   \n",
            "2           Health Care Equipment  North Chicago, Illinois  1957-03-04   \n",
            "3                   Biotechnology  North Chicago, Illinois  2012-12-31   \n",
            "4  IT Consulting & Other Services          Dublin, Ireland  2011-07-06   \n",
            "\n",
            "       CIK      Founded  \n",
            "0    66740         1902  \n",
            "1    91142         1916  \n",
            "2     1800         1888  \n",
            "3  1551152  2013 (1888)  \n",
            "4  1467373         1989  \n",
            "Data saved as 'sp500_companies.csv'.\n",
            "\n",
            "Number of companies in each sector:\n",
            "GICS Sector\n",
            "Industrials               78\n",
            "Financials                73\n",
            "Information Technology    69\n",
            "Health Care               61\n",
            "Consumer Discretionary    50\n",
            "Consumer Staples          38\n",
            "Utilities                 31\n",
            "Real Estate               31\n",
            "Materials                 28\n",
            "Communication Services    22\n",
            "Energy                    22\n",
            "Name: count, dtype: int64\n"
          ]
        },
        {
          "output_type": "display_data",
          "data": {
            "text/plain": [
              "<Figure size 1200x600 with 1 Axes>"
            ],
            "image/png": "[encoded data removed]"
          },
          "metadata": {}
        }
      ]
    },
    {
      "cell_type": "code",
      "source": [
        "from google.colab import files\n",
        "files.download('sp500_companies.csv')\n"
      ],
      "metadata": {
        "colab": {
          "base_uri": "https://localhost:8080/",
          "height": 17
        },
        "id": "_o2_BS52tg6_",
        "outputId": "efc94de2-6c60-429d-d239-2194a3627e8e"
      },
      "execution_count": 19,
      "outputs": [
        {
          "output_type": "display_data",
          "data": {
            "text/plain": [
              "<IPython.core.display.Javascript object>"
            ],
            "application/javascript": [
              "\n",
              "    async function download(id, filename, size) {\n",
              "      if (!google.colab.kernel.accessAllowed) {\n",
              "        return;\n",
              "      }\n",
              "      const div = document.createElement('div');\n",
              "      const label = document.createElement('label');\n",
              "      label.textContent = `Downloading \"${filename}\": `;\n",
              "      div.appendChild(label);\n",
              "      const progress = document.createElement('progress');\n",
              "      progress.max = size;\n",
              "      div.appendChild(progress);\n",
              "      document.body.appendChild(div);\n",
              "\n",
              "      const buffers = [];\n",
              "      let downloaded = 0;\n",
              "\n",
              "      const channel = await google.colab.kernel.comms.open(id);\n",
              "      // Send a message to notify the kernel that we're ready.\n",
              "      channel.send({})\n",
              "\n",
              "      for await (const message of channel.messages) {\n",
              "        // Send a message to notify the kernel that we're ready.\n",
              "        channel.send({})\n",
              "        if (message.buffers) {\n",
              "          for (const buffer of message.buffers) {\n",
              "            buffers.push(buffer);\n",
              "            downloaded += buffer.byteLength;\n",
              "            progress.value = downloaded;\n",
              "          }\n",
              "        }\n",
              "      }\n",
              "      const blob = new Blob(buffers, {type: 'application/binary'});\n",
              "      const a = document.createElement('a');\n",
              "      a.href = window.URL.createObjectURL(blob);\n",
              "      a.download = filename;\n",
              "      div.appendChild(a);\n",
              "      a.click();\n",
              "      div.remove();\n",
              "    }\n",
              "  "
            ]
          },
          "metadata": {}
        },
        {
          "output_type": "display_data",
          "data": {
            "text/plain": [
              "<IPython.core.display.Javascript object>"
            ],
            "application/javascript": [
              "download(\"download_740d5323-699a-4d48-8b4f-e2038f2a3265\", \"sp500_companies.csv\", 53517)"
            ]
          },
          "metadata": {}
        }
      ]
    },
    {
      "cell_type": "code",
      "source": [
        "# Filter companies headquartered in New York\n",
        "ny_companies = df[df['Headquarters Location'].str.contains(\"New York\", na=False)]\n",
        "print(f\"Companies headquartered in New York:\\n{ny_companies}\")\n",
        "\n",
        "# Filter companies headquartered in California\n",
        "ca_companies = df[df['Headquarters Location'].str.contains(\"California\", na=False)]\n",
        "print(f\"Companies headquartered in California:\\n{ca_companies}\")\n"
      ],
      "metadata": {
        "colab": {
          "base_uri": "https://localhost:8080/"
        },
        "id": "F2Fu_bCLty7b",
        "outputId": "2cd763e2-9543-43fc-c574-77f06d47151a"
      },
      "execution_count": 20,
      "outputs": [
        {
          "output_type": "stream",
          "name": "stdout",
          "text": [
            "Companies headquartered in New York:\n",
            "    Symbol                              Security             GICS Sector  \\\n",
            "26     AXP                      American Express              Financials   \n",
            "27     AIG          American International Group              Financials   \n",
            "38     APO              Apollo Global Management              Financials   \n",
            "64     BLK                             BlackRock              Financials   \n",
            "65      BX                       Blackstone Inc.              Financials   \n",
            "66      BK                            BNY Mellon              Financials   \n",
            "71     BMY                  Bristol Myers Squibb             Health Care   \n",
            "73      BR        Broadridge Financial Solutions             Industrials   \n",
            "109      C                             Citigroup              Financials   \n",
            "116     CL                     Colgate-Palmolive        Consumer Staples   \n",
            "120     ED                   Consolidated Edison               Utilities   \n",
            "121    STZ                  Constellation Brands        Consumer Staples   \n",
            "125    GLW                          Corning Inc.  Information Technology   \n",
            "178     EL          Estée Lauder Companies (The)        Consumer Staples   \n",
            "202   FOXA             Fox Corporation (Class A)  Communication Services   \n",
            "203    FOX             Fox Corporation (Class B)  Communication Services   \n",
            "221     GS                         Goldman Sachs              Financials   \n",
            "227   HSIC                          Henry Schein             Health Care   \n",
            "229    HES                      Hess Corporation                  Energy   \n",
            "243    IBM                                   IBM  Information Technology   \n",
            "252    IFF    International Flavors & Fragrances               Materials   \n",
            "254    IPG  Interpublic Group of Companies (The)  Communication Services   \n",
            "267    JPM                        JPMorgan Chase              Financials   \n",
            "275    KIM                          Kimco Realty             Real Estate   \n",
            "277    KKR                                   KKR              Financials   \n",
            "294      L                     Loews Corporation              Financials   \n",
            "298    MTB                              M&T Bank              Financials   \n",
            "300   MKTX                           MarketAxess              Financials   \n",
            "302    MMC                        Marsh McLennan              Financials   \n",
            "305     MA                            Mastercard              Financials   \n",
            "313    MET                               MetLife              Financials   \n",
            "327    MCO                   Moody's Corporation              Financials   \n",
            "328     MS                        Morgan Stanley              Financials   \n",
            "331   MSCI                                  MSCI              Financials   \n",
            "332   NDAQ                          Nasdaq, Inc.              Financials   \n",
            "336   NWSA                   News Corp (Class A)  Communication Services   \n",
            "337    NWS                   News Corp (Class B)  Communication Services   \n",
            "354    OMC                         Omnicom Group  Communication Services   \n",
            "363   PARA                      Paramount Global  Communication Services   \n",
            "365   PAYX                               Paychex             Industrials   \n",
            "369    PEP                               PepsiCo        Consumer Staples   \n",
            "370    PFE                                Pfizer             Health Care   \n",
            "372     PM           Philip Morris International        Consumer Staples   \n",
            "391     RL              Ralph Lauren Corporation  Consumer Discretionary   \n",
            "396   REGN             Regeneron Pharmaceuticals             Health Care   \n",
            "406   SPGI                            S&P Global              Financials   \n",
            "434   TTWO                  Take-Two Interactive  Communication Services   \n",
            "435    TPR                        Tapestry, Inc.  Consumer Discretionary   \n",
            "451    TRV             Travelers Companies (The)              Financials   \n",
            "471     VZ                               Verizon  Communication Services   \n",
            "474   VICI                       Vici Properties             Real Estate   \n",
            "484    WBD                Warner Bros. Discovery  Communication Services   \n",
            "498    XYL                            Xylem Inc.             Industrials   \n",
            "\n",
            "                                GICS Sub-Industry    Headquarters Location  \\\n",
            "26                               Consumer Finance  New York City, New York   \n",
            "27                           Multi-line Insurance  New York City, New York   \n",
            "38               Asset Management & Custody Banks  New York City, New York   \n",
            "64               Asset Management & Custody Banks  New York City, New York   \n",
            "65               Asset Management & Custody Banks  New York City, New York   \n",
            "66               Asset Management & Custody Banks  New York City, New York   \n",
            "71                                Pharmaceuticals  New York City, New York   \n",
            "73          Data Processing & Outsourced Services   Lake Success, New York   \n",
            "109                             Diversified Banks  New York City, New York   \n",
            "116                            Household Products  New York City, New York   \n",
            "120                               Multi-Utilities  New York City, New York   \n",
            "121                         Distillers & Vintners      Rochester, New York   \n",
            "125                         Electronic Components        Corning, New York   \n",
            "178                        Personal Care Products  New York City, New York   \n",
            "202                                  Broadcasting  New York City, New York   \n",
            "203                                  Broadcasting  New York City, New York   \n",
            "221                Investment Banking & Brokerage  New York City, New York   \n",
            "227                      Health Care Distributors       Melville, New York   \n",
            "229                          Integrated Oil & Gas  New York City, New York   \n",
            "243                IT Consulting & Other Services         Armonk, New York   \n",
            "252                           Specialty Chemicals  New York City, New York   \n",
            "254                                   Advertising  New York City, New York   \n",
            "267                             Diversified Banks  New York City, New York   \n",
            "275                                  Retail REITs        Jericho, New York   \n",
            "277              Asset Management & Custody Banks  New York City, New York   \n",
            "294                          Multi-line Insurance  New York City, New York   \n",
            "298                                Regional Banks        Buffalo, New York   \n",
            "300                    Financial Exchanges & Data  New York City, New York   \n",
            "302                             Insurance Brokers  New York City, New York   \n",
            "305     Transaction & Payment Processing Services       Harrison, New York   \n",
            "313                       Life & Health Insurance  New York City, New York   \n",
            "327                    Financial Exchanges & Data  New York City, New York   \n",
            "328                Investment Banking & Brokerage  New York City, New York   \n",
            "331                    Financial Exchanges & Data  New York City, New York   \n",
            "332                    Financial Exchanges & Data  New York City, New York   \n",
            "336                                    Publishing  New York City, New York   \n",
            "337                                    Publishing  New York City, New York   \n",
            "354                                   Advertising  New York City, New York   \n",
            "363                        Movies & Entertainment  New York City, New York   \n",
            "365          Human Resource & Employment Services       Penfield, New York   \n",
            "369         Soft Drinks & Non-alcoholic Beverages       Purchase, New York   \n",
            "370                               Pharmaceuticals  New York City, New York   \n",
            "372                                       Tobacco  New York City, New York   \n",
            "391           Apparel, Accessories & Luxury Goods  New York City, New York   \n",
            "396                                 Biotechnology      Tarrytown, New York   \n",
            "406                    Financial Exchanges & Data  New York City, New York   \n",
            "434                Interactive Home Entertainment  New York City, New York   \n",
            "435           Apparel, Accessories & Luxury Goods  New York City, New York   \n",
            "451                 Property & Casualty Insurance  New York City, New York   \n",
            "471         Integrated Telecommunication Services  New York City, New York   \n",
            "474                          Hotel & Resort REITs  New York City, New York   \n",
            "484                                  Broadcasting  New York City, New York   \n",
            "498  Industrial Machinery & Supplies & Components   White Plains, New York   \n",
            "\n",
            "     Date added      CIK                         Founded  \n",
            "26   1976-06-30     4962                            1850  \n",
            "27   1980-03-31     5272                            1919  \n",
            "38   2024-12-23  1858681                            1990  \n",
            "64   2011-04-04  2012383                            1988  \n",
            "65   2023-09-18  1393818                            1985  \n",
            "66   1995-03-31  1390777                            1784  \n",
            "71   1957-03-04    14272                     1989 (1887)  \n",
            "73   2018-06-18  1383312                            1962  \n",
            "109  1988-05-31   831001                            1998  \n",
            "116  1957-03-04    21665                            1806  \n",
            "120  1957-03-04  1047862                            1823  \n",
            "121  2005-07-01    16918                            1945  \n",
            "125  1995-02-27    24741                            1851  \n",
            "178  2006-01-05  1001250                            1946  \n",
            "202  2019-03-04  1754301                            2019  \n",
            "203  2019-03-04  1754301                            2019  \n",
            "221  2002-07-22   886982                            1869  \n",
            "227  2015-03-17  1000228                            1932  \n",
            "229  1984-05-31     4447                            1919  \n",
            "243  1957-03-04    51143                            1911  \n",
            "252  1976-03-31    51253                     1958 (1889)  \n",
            "254  1992-10-01    51644                     1961 (1930)  \n",
            "267  1975-06-30    19617              2000 (1799 / 1871)  \n",
            "275  2006-04-04   879101                            1958  \n",
            "277  2024-06-24  1404912                            1976  \n",
            "294  1995-05-31    60086                            1959  \n",
            "298  2004-02-23    36270                            1856  \n",
            "300  2019-07-01  1278021                            2000  \n",
            "302  1987-08-31    62709                            1905  \n",
            "305  2008-07-18  1141391                            1966  \n",
            "313  2000-12-11  1099219                            1868  \n",
            "327  1998-07-01  1059556                            1909  \n",
            "328  1993-07-29   895421                            1935  \n",
            "331  2018-04-04  1408198                            1969  \n",
            "332  2008-10-22  1120193                            1971  \n",
            "336  2013-08-01  1564708    2013 (News Corporation 1980)  \n",
            "337  2015-09-18  1564708    2013 (News Corporation 1980)  \n",
            "354  1997-12-31    29989                            1986  \n",
            "363  1994-09-30   813828  2019 (Paramount Pictures 1912)  \n",
            "365  1998-10-01   723531                            1971  \n",
            "369  1957-03-04    77476                            1898  \n",
            "370  1957-03-04    78003                            1849  \n",
            "372  2008-03-31  1413329                     2008 (1847)  \n",
            "391  2007-02-02  1037038                            1967  \n",
            "396  2013-05-01   872589                            1988  \n",
            "406  1957-03-04    64040                            1917  \n",
            "434  2018-03-19   946581                            1993  \n",
            "435  2004-09-01  1116132                            2017  \n",
            "451  2002-08-21    86312                            1853  \n",
            "471  1983-11-30   732712                     1983 (1877)  \n",
            "474  2022-06-08  1705696                            2017  \n",
            "484  2022-04-11  1437107        2022 (Warner Bros. 1923)  \n",
            "498  2011-11-01  1524472                            2011  \n",
            "Companies headquartered in California:\n",
            "    Symbol                         Security             GICS Sector  \\\n",
            "5     ADBE                       Adobe Inc.  Information Technology   \n",
            "6      AMD           Advanced Micro Devices  Information Technology   \n",
            "9        A             Agilent Technologies             Health Care   \n",
            "11    ABNB                           Airbnb  Consumer Discretionary   \n",
            "14     ARE  Alexandria Real Estate Equities             Real Estate   \n",
            "..     ...                              ...                     ...   \n",
            "475      V                        Visa Inc.              Financials   \n",
            "483    DIS        Walt Disney Company (The)  Communication Services   \n",
            "488    WFC                      Wells Fargo              Financials   \n",
            "491    WDC                  Western Digital  Information Technology   \n",
            "495   WDAY                    Workday, Inc.  Information Technology   \n",
            "\n",
            "                              GICS Sub-Industry      Headquarters Location  \\\n",
            "5                          Application Software       San Jose, California   \n",
            "6                                Semiconductors    Santa Clara, California   \n",
            "9                Life Sciences Tools & Services    Santa Clara, California   \n",
            "11               Hotels, Resorts & Cruise Lines  San Francisco, California   \n",
            "14                                 Office REITs       Pasadena, California   \n",
            "..                                          ...                        ...   \n",
            "475   Transaction & Payment Processing Services  San Francisco, California   \n",
            "483                      Movies & Entertainment        Burbank, California   \n",
            "488                           Diversified Banks  San Francisco, California   \n",
            "491  Technology Hardware, Storage & Peripherals       San Jose, California   \n",
            "495                        Application Software     Pleasanton, California   \n",
            "\n",
            "     Date added      CIK Founded  \n",
            "5    1997-05-05   796343    1982  \n",
            "6    2017-03-20     2488    1969  \n",
            "9    2000-06-05  1090872    1999  \n",
            "11   2023-09-18  1559720    2008  \n",
            "14   2017-03-20  1035443    1994  \n",
            "..          ...      ...     ...  \n",
            "475  2009-12-21  1403161    1958  \n",
            "483  1976-06-30  1744489    1923  \n",
            "488  1976-06-30    72971    1852  \n",
            "491  2009-07-01   106040    1970  \n",
            "495  2024-12-23  1327811    2005  \n",
            "\n",
            "[68 rows x 8 columns]\n"
          ]
        }
      ]
    },
    {
      "cell_type": "code",
      "source": [
        "# Search for Apple Inc.\n",
        "apple = df[df['Security'] == 'Apple Inc.']\n",
        "print(f\"Details of Apple Inc.:\\n{apple}\")\n"
      ],
      "metadata": {
        "colab": {
          "base_uri": "https://localhost:8080/"
        },
        "id": "BZeUA2f4uAAW",
        "outputId": "073493ca-2220-4cb3-c6d2-824a2d156593"
      },
      "execution_count": 22,
      "outputs": [
        {
          "output_type": "stream",
          "name": "stdout",
          "text": [
            "Details of Apple Inc.:\n",
            "   Symbol    Security             GICS Sector  \\\n",
            "39   AAPL  Apple Inc.  Information Technology   \n",
            "\n",
            "                             GICS Sub-Industry  Headquarters Location  \\\n",
            "39  Technology Hardware, Storage & Peripherals  Cupertino, California   \n",
            "\n",
            "    Date added     CIK Founded  \n",
            "39  1982-11-30  320193    1977  \n"
          ]
        }
      ]
    },
    {
      "cell_type": "code",
      "source": [
        "sorted_df = df.sort_values(by='Symbol')\n",
        "print(f\"Companies sorted by symbol:\\n{sorted_df.head()}\")\n"
      ],
      "metadata": {
        "colab": {
          "base_uri": "https://localhost:8080/"
        },
        "id": "C50AXvk8v4cT",
        "outputId": "17774868-0d2d-4a58-bc11-72d8425629fa"
      },
      "execution_count": 25,
      "outputs": [
        {
          "output_type": "stream",
          "name": "stdout",
          "text": [
            "Companies sorted by symbol:\n",
            "   Symbol              Security             GICS Sector  \\\n",
            "9       A  Agilent Technologies             Health Care   \n",
            "39   AAPL            Apple Inc.  Information Technology   \n",
            "3    ABBV                AbbVie             Health Care   \n",
            "11   ABNB                Airbnb  Consumer Discretionary   \n",
            "2     ABT   Abbott Laboratories             Health Care   \n",
            "\n",
            "                             GICS Sub-Industry      Headquarters Location  \\\n",
            "9               Life Sciences Tools & Services    Santa Clara, California   \n",
            "39  Technology Hardware, Storage & Peripherals      Cupertino, California   \n",
            "3                                Biotechnology    North Chicago, Illinois   \n",
            "11              Hotels, Resorts & Cruise Lines  San Francisco, California   \n",
            "2                        Health Care Equipment    North Chicago, Illinois   \n",
            "\n",
            "    Date added      CIK      Founded  \n",
            "9   2000-06-05  1090872         1999  \n",
            "39  1982-11-30   320193         1977  \n",
            "3   2012-12-31  1551152  2013 (1888)  \n",
            "11  2023-09-18  1559720         2008  \n",
            "2   1957-03-04     1800         1888  \n"
          ]
        }
      ]
    },
    {
      "cell_type": "code",
      "source": [
        "top_by_sector = df.groupby('GICS Sector').head(5)\n",
        "print(\"Top 5 companies from each sector:\")\n",
        "print(top_by_sector)\n"
      ],
      "metadata": {
        "colab": {
          "base_uri": "https://localhost:8080/"
        },
        "id": "UPxTU7Jsv660",
        "outputId": "e200bff0-1bbb-41a1-d90c-2438308ace7e"
      },
      "execution_count": 26,
      "outputs": [
        {
          "output_type": "stream",
          "name": "stdout",
          "text": [
            "Top 5 companies from each sector:\n",
            "    Symbol                         Security             GICS Sector  \\\n",
            "0      MMM                               3M             Industrials   \n",
            "1      AOS                      A. O. Smith             Industrials   \n",
            "2      ABT              Abbott Laboratories             Health Care   \n",
            "3     ABBV                           AbbVie             Health Care   \n",
            "4      ACN                        Accenture  Information Technology   \n",
            "5     ADBE                       Adobe Inc.  Information Technology   \n",
            "6      AMD           Advanced Micro Devices  Information Technology   \n",
            "7      AES                  AES Corporation               Utilities   \n",
            "8      AFL                            Aflac              Financials   \n",
            "9        A             Agilent Technologies             Health Care   \n",
            "10     APD                     Air Products               Materials   \n",
            "11    ABNB                           Airbnb  Consumer Discretionary   \n",
            "12    AKAM              Akamai Technologies  Information Technology   \n",
            "13     ALB            Albemarle Corporation               Materials   \n",
            "14     ARE  Alexandria Real Estate Equities             Real Estate   \n",
            "15    ALGN                 Align Technology             Health Care   \n",
            "16    ALLE                         Allegion             Industrials   \n",
            "17     LNT                   Alliant Energy               Utilities   \n",
            "18     ALL                         Allstate              Financials   \n",
            "19   GOOGL          Alphabet Inc. (Class A)  Communication Services   \n",
            "20    GOOG          Alphabet Inc. (Class C)  Communication Services   \n",
            "21      MO                           Altria        Consumer Staples   \n",
            "22    AMZN                           Amazon  Consumer Discretionary   \n",
            "23    AMCR                            Amcor               Materials   \n",
            "24     AEE                           Ameren               Utilities   \n",
            "25     AEP          American Electric Power               Utilities   \n",
            "26     AXP                 American Express              Financials   \n",
            "27     AIG     American International Group              Financials   \n",
            "28     AMT                   American Tower             Real Estate   \n",
            "29     AWK             American Water Works               Utilities   \n",
            "30     AMP             Ameriprise Financial              Financials   \n",
            "31     AME                           Ametek             Industrials   \n",
            "32    AMGN                            Amgen             Health Care   \n",
            "33     APH                         Amphenol  Information Technology   \n",
            "37     APA                  APA Corporation                  Energy   \n",
            "41    APTV                            Aptiv  Consumer Discretionary   \n",
            "43     ADM           Archer Daniels Midland        Consumer Staples   \n",
            "47       T                             AT&T  Communication Services   \n",
            "50     ADP        Automatic Data Processing             Industrials   \n",
            "51     AZO                         AutoZone  Consumer Discretionary   \n",
            "52     AVB            AvalonBay Communities             Real Estate   \n",
            "53     AVY                   Avery Dennison               Materials   \n",
            "55     BKR                     Baker Hughes                  Energy   \n",
            "56    BALL                 Ball Corporation               Materials   \n",
            "61     BBY                         Best Buy  Consumer Discretionary   \n",
            "75    BF.B                     Brown–Forman        Consumer Staples   \n",
            "77      BG                     Bunge Global        Consumer Staples   \n",
            "78     BXP                        BXP, Inc.             Real Estate   \n",
            "82     CPT            Camden Property Trust             Real Estate   \n",
            "83     CPB            Campbell Soup Company        Consumer Staples   \n",
            "100   CHTR           Charter Communications  Communication Services   \n",
            "101    CVX              Chevron Corporation                  Energy   \n",
            "117  CMCSA                          Comcast  Communication Services   \n",
            "119    COP                   ConocoPhillips                  Energy   \n",
            "130   CTRA                          Coterra                  Energy   \n",
            "\n",
            "                                  GICS Sub-Industry  \\\n",
            "0                          Industrial Conglomerates   \n",
            "1                                 Building Products   \n",
            "2                             Health Care Equipment   \n",
            "3                                     Biotechnology   \n",
            "4                    IT Consulting & Other Services   \n",
            "5                              Application Software   \n",
            "6                                    Semiconductors   \n",
            "7      Independent Power Producers & Energy Traders   \n",
            "8                           Life & Health Insurance   \n",
            "9                    Life Sciences Tools & Services   \n",
            "10                                 Industrial Gases   \n",
            "11                   Hotels, Resorts & Cruise Lines   \n",
            "12               Internet Services & Infrastructure   \n",
            "13                              Specialty Chemicals   \n",
            "14                                     Office REITs   \n",
            "15                             Health Care Supplies   \n",
            "16                                Building Products   \n",
            "17                               Electric Utilities   \n",
            "18                    Property & Casualty Insurance   \n",
            "19                     Interactive Media & Services   \n",
            "20                     Interactive Media & Services   \n",
            "21                                          Tobacco   \n",
            "22                                 Broadline Retail   \n",
            "23   Paper & Plastic Packaging Products & Materials   \n",
            "24                                  Multi-Utilities   \n",
            "25                               Electric Utilities   \n",
            "26                                 Consumer Finance   \n",
            "27                             Multi-line Insurance   \n",
            "28                              Telecom Tower REITs   \n",
            "29                                  Water Utilities   \n",
            "30                 Asset Management & Custody Banks   \n",
            "31                Electrical Components & Equipment   \n",
            "32                                    Biotechnology   \n",
            "33                            Electronic Components   \n",
            "37               Oil & Gas Exploration & Production   \n",
            "41                     Automotive Parts & Equipment   \n",
            "43                 Agricultural Products & Services   \n",
            "47            Integrated Telecommunication Services   \n",
            "50             Human Resource & Employment Services   \n",
            "51                                Automotive Retail   \n",
            "52                   Multi-Family Residential REITs   \n",
            "53   Paper & Plastic Packaging Products & Materials   \n",
            "55                   Oil & Gas Equipment & Services   \n",
            "56                Metal, Glass & Plastic Containers   \n",
            "61                    Computer & Electronics Retail   \n",
            "75                            Distillers & Vintners   \n",
            "77                 Agricultural Products & Services   \n",
            "78                                     Office REITs   \n",
            "82                   Multi-Family Residential REITs   \n",
            "83                           Packaged Foods & Meats   \n",
            "100                               Cable & Satellite   \n",
            "101                            Integrated Oil & Gas   \n",
            "117                               Cable & Satellite   \n",
            "119              Oil & Gas Exploration & Production   \n",
            "130              Oil & Gas Exploration & Production   \n",
            "\n",
            "                     Headquarters Location  Date added      CIK      Founded  \n",
            "0                    Saint Paul, Minnesota  1957-03-04    66740         1902  \n",
            "1                     Milwaukee, Wisconsin  2017-07-26    91142         1916  \n",
            "2                  North Chicago, Illinois  1957-03-04     1800         1888  \n",
            "3                  North Chicago, Illinois  2012-12-31  1551152  2013 (1888)  \n",
            "4                          Dublin, Ireland  2011-07-06  1467373         1989  \n",
            "5                     San Jose, California  1997-05-05   796343         1982  \n",
            "6                  Santa Clara, California  2017-03-20     2488         1969  \n",
            "7                      Arlington, Virginia  1998-10-02   874761         1981  \n",
            "8                        Columbus, Georgia  1999-05-28     4977         1955  \n",
            "9                  Santa Clara, California  2000-06-05  1090872         1999  \n",
            "10   Upper Macungie Township, Pennsylvania  1985-04-30     2969         1940  \n",
            "11               San Francisco, California  2023-09-18  1559720         2008  \n",
            "12                Cambridge, Massachusetts  2007-07-12  1086222         1998  \n",
            "13               Charlotte, North Carolina  2016-07-01   915913         1994  \n",
            "14                    Pasadena, California  2017-03-20  1035443         1994  \n",
            "15                          Tempe, Arizona  2017-06-19  1097149         1997  \n",
            "16                         Dublin, Ireland  2013-12-02  1579241         1908  \n",
            "17                      Madison, Wisconsin  2016-07-01   352541         1917  \n",
            "18                    Northbrook, Illinois  1995-07-13   899051         1931  \n",
            "19               Mountain View, California  2014-04-03  1652044         1998  \n",
            "20               Mountain View, California  2006-04-03  1652044         1998  \n",
            "21                      Richmond, Virginia  1957-03-04   764180         1985  \n",
            "22                     Seattle, Washington  2005-11-18  1018724         1994  \n",
            "23        Warmley, Bristol, United Kingdom  2019-06-07  1748790  2019 (1860)  \n",
            "24                     St. Louis, Missouri  1991-09-19  1002910         1902  \n",
            "25                          Columbus, Ohio  1957-03-04     4904         1906  \n",
            "26                 New York City, New York  1976-06-30     4962         1850  \n",
            "27                 New York City, New York  1980-03-31     5272         1919  \n",
            "28                   Boston, Massachusetts  2007-11-19  1053507         1995  \n",
            "29                      Camden, New Jersey  2016-03-04  1410636         1886  \n",
            "30                  Minneapolis, Minnesota  2005-10-03   820027         1894  \n",
            "31                    Berwyn, Pennsylvania  2013-09-23  1037868         1930  \n",
            "32               Thousand Oaks, California  1992-01-02   318154         1980  \n",
            "33                Wallingford, Connecticut  2008-09-30   820313         1932  \n",
            "37                          Houston, Texas  1997-07-28  1841666         1954  \n",
            "41                         Dublin, Ireland  2012-12-24  1521332         1994  \n",
            "43                       Chicago, Illinois  1957-03-04     7084         1902  \n",
            "47                           Dallas, Texas  1983-11-30   732717  1983 (1885)  \n",
            "50                    Roseland, New Jersey  1981-03-31     8670         1949  \n",
            "51                      Memphis, Tennessee  1997-01-02   866787         1979  \n",
            "52                     Arlington, Virginia  2007-01-10   915912         1978  \n",
            "53                            Mentor, Ohio  1987-12-31     8818         1935  \n",
            "55                          Houston, Texas  2017-07-07  1701605         2017  \n",
            "56                    Broomfield, Colorado  1984-10-31     9389         1880  \n",
            "61                    Richfield, Minnesota  1999-06-29   764478         1966  \n",
            "75                    Louisville, Kentucky  1982-10-31    14693         1870  \n",
            "77                  Chesterfield, Missouri  2023-03-15  1996862         1818  \n",
            "78                   Boston, Massachusetts  2006-04-03  1037540         1970  \n",
            "82                          Houston, Texas  2022-04-04   906345         1981  \n",
            "83                      Camden, New Jersey  1957-03-04    16732         1869  \n",
            "100                  Stamford, Connecticut  2016-09-08  1091667         1993  \n",
            "101                  San Ramon, California  1957-03-04    93410         1879  \n",
            "117             Philadelphia, Pennsylvania  2002-11-19  1166691         1963  \n",
            "119                         Houston, Texas  1957-03-04  1163165         2002  \n",
            "130                         Houston, Texas  2008-06-23   858470  2021 (1989)  \n"
          ]
        }
      ]
    },
    {
      "cell_type": "code",
      "source": [
        "ny_companies.to_csv('ny_companies.csv', index=False)\n",
        "print(\"Filtered data saved to 'ny_companies.csv'\")\n"
      ],
      "metadata": {
        "colab": {
          "base_uri": "https://localhost:8080/"
        },
        "id": "Os1b3LZ6v_VV",
        "outputId": "b0a01d91-67e8-4a67-8d2b-468e3bd6f70a"
      },
      "execution_count": 27,
      "outputs": [
        {
          "output_type": "stream",
          "name": "stdout",
          "text": [
            "Filtered data saved to 'ny_companies.csv'\n"
          ]
        }
      ]
    },
    {
      "cell_type": "code",
      "source": [
        "# Check for missing values\n",
        "missing_data = df.isnull().sum()\n",
        "print(f\"Missing data in each column:\\n{missing_data}\")\n",
        "\n",
        "# Drop rows with missing data (optional)\n",
        "df_cleaned = df.dropna()\n",
        "print(f\"Cleaned dataset:\\n{df_cleaned}\")\n"
      ],
      "metadata": {
        "colab": {
          "base_uri": "https://localhost:8080/"
        },
        "id": "3c9rfqH6wX3w",
        "outputId": "ba4a6e66-d485-4821-c646-4ed7a0e877ab"
      },
      "execution_count": 30,
      "outputs": [
        {
          "output_type": "stream",
          "name": "stdout",
          "text": [
            "Missing data in each column:\n",
            "Symbol                   0\n",
            "Security                 0\n",
            "GICS Sector              0\n",
            "GICS Sub-Industry        0\n",
            "Headquarters Location    0\n",
            "Date added               0\n",
            "CIK                      0\n",
            "Founded                  0\n",
            "dtype: int64\n",
            "Cleaned dataset:\n",
            "    Symbol             Security             GICS Sector  \\\n",
            "0      MMM                   3M             Industrials   \n",
            "1      AOS          A. O. Smith             Industrials   \n",
            "2      ABT  Abbott Laboratories             Health Care   \n",
            "3     ABBV               AbbVie             Health Care   \n",
            "4      ACN            Accenture  Information Technology   \n",
            "..     ...                  ...                     ...   \n",
            "498    XYL           Xylem Inc.             Industrials   \n",
            "499    YUM          Yum! Brands  Consumer Discretionary   \n",
            "500   ZBRA   Zebra Technologies  Information Technology   \n",
            "501    ZBH        Zimmer Biomet             Health Care   \n",
            "502    ZTS               Zoetis             Health Care   \n",
            "\n",
            "                                GICS Sub-Industry    Headquarters Location  \\\n",
            "0                        Industrial Conglomerates    Saint Paul, Minnesota   \n",
            "1                               Building Products     Milwaukee, Wisconsin   \n",
            "2                           Health Care Equipment  North Chicago, Illinois   \n",
            "3                                   Biotechnology  North Chicago, Illinois   \n",
            "4                  IT Consulting & Other Services          Dublin, Ireland   \n",
            "..                                            ...                      ...   \n",
            "498  Industrial Machinery & Supplies & Components   White Plains, New York   \n",
            "499                                   Restaurants     Louisville, Kentucky   \n",
            "500            Electronic Equipment & Instruments   Lincolnshire, Illinois   \n",
            "501                         Health Care Equipment          Warsaw, Indiana   \n",
            "502                               Pharmaceuticals   Parsippany, New Jersey   \n",
            "\n",
            "     Date added      CIK      Founded  \n",
            "0    1957-03-04    66740         1902  \n",
            "1    2017-07-26    91142         1916  \n",
            "2    1957-03-04     1800         1888  \n",
            "3    2012-12-31  1551152  2013 (1888)  \n",
            "4    2011-07-06  1467373         1989  \n",
            "..          ...      ...          ...  \n",
            "498  2011-11-01  1524472         2011  \n",
            "499  1997-10-06  1041061         1997  \n",
            "500  2019-12-23   877212         1969  \n",
            "501  2001-08-07  1136869         1927  \n",
            "502  2013-06-21  1555280         1952  \n",
            "\n",
            "[503 rows x 8 columns]\n"
          ]
        }
      ]
    },
    {
      "cell_type": "code",
      "source": [],
      "metadata": {
        "id": "39ac7VtfwZ9G"
      },
      "execution_count": null,
      "outputs": []
    }
  ]
}